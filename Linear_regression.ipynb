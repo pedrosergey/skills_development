{
 "cells": [
  {
   "cell_type": "markdown",
   "metadata": {
    "application/vnd.databricks.v1+cell": {
     "cellMetadata": {
      "byteLimit": 2048000,
      "rowLimit": 10000
     },
     "inputWidgets": {},
     "nuid": "8feab793-b77c-49f5-be3c-6e9ff5da563b",
     "showTitle": false,
     "title": ""
    }
   },
   "source": [
    "\n",
    "# 0. INTRODUCTION\n",
    "\n",
    "Welcome to this analytical journey! In this notebook, we embark on an exciting task: developing a predictive model to estimate the price of accommodations. This is not just any prediction – we aim to understand how the number of rooms in an accommodation influences its pricing, a critical factor in the real estate and hospitality industries.\n",
    "\n",
    "Our tool of choice for this endeavor is the powerful [Linear Regression model](https://spark.apache.org/docs/latest/api/python/reference/api/pyspark.ml.regression.LinearRegression.html), a staple in the field of machine learning and statistical modeling. Linear Regression is renowned for its simplicity and effectiveness, particularly when it comes to understanding relationships between numerical variables. In our case, it's the relationship between the number of rooms and accommodation prices.\n",
    "\n",
    "The data fueling our analysis comes from a robust and public [dataset](https://drive.google.com/uc?id=1ygn8_Gh3wd7XvYebw3S7SV_87dw7BXjh&export=download) provided by Airbnb. This dataset is a rich source of information, encapsulating various attributes of accommodations listed on the platform. We will specifically focus on extracting insights about room numbers and their corresponding prices.\n",
    "\n",
    "Throughout this notebook, we will guide you through the process of data preparation, model training, and evaluation. Our aim is to not only build a functional model but also to extract meaningful insights that can inform business strategies in the accommodation sector.\n",
    "\n",
    "So, let's begin our journey into the world of big data and machine learning, utilizing the power of Apache Spark to drive our analysis forward.\n"
   ]
  },
  {
   "cell_type": "markdown",
   "metadata": {
    "application/vnd.databricks.v1+cell": {
     "cellMetadata": {
      "byteLimit": 2048000,
      "rowLimit": 10000
     },
     "inputWidgets": {},
     "nuid": "0a778712-d7ee-4b5f-baaa-eefe11393b0e",
     "showTitle": false,
     "title": ""
    }
   },
   "source": [
    "\n",
    "# 1. PREPARE THE DOCUMENT AND GET THE DATA\n",
    "\n",
    "\n",
    "As we move forward in our journey to develop a predictive model for accommodation prices, the first critical step is to set up our environment and gather the data we need. This stage is foundational, ensuring that we have a solid base to build upon.\n",
    "\n",
    "We start by preparing our document for analysis. This involves initializing a Spark session, which is the entry point for programming Spark applications. A Spark session provides a way to interact with Spark functionalities, enabling us to leverage its powerful data processing capabilities. \n",
    "\n",
    "In this case, Databricks provides everything that we need to start running Spark. We just need to create a cluster, attach it to the notebook and we will be ready to start.\n",
    "\n",
    "With our environment ready, the next crucial step is obtaining the data. For our model, we'll be using publicly available data from Airbnb. This dataset is not only comprehensive but also rich in details, providing a plethora of information about various accommodations across different regions.\n",
    "\n",
    "We will download this dataset using reliable methods, ensuring the integrity and quality of the data. Once downloaded, we will load the data into our Spark environment. This step involves reading the dataset into a DataFrame, a fundamental structure of Apache Spark, which allows us to manipulate and analyze data in a distributed and efficient manner.\n",
    "\n",
    "Upon successful loading of the data, we'll proceed with an initial exploration. This involves understanding the structure of the data, such as the number of columns and rows, types of variables, and a peek at the first few rows of the dataset. This preliminary exploration is crucial as it gives us insights into the nature of the data we are dealing with and helps us identify any initial cleaning or transformation that might be necessary."
   ]
  },
  {
   "cell_type": "code",
   "execution_count": 0,
   "metadata": {
    "application/vnd.databricks.v1+cell": {
     "cellMetadata": {
      "byteLimit": 2048000,
      "rowLimit": 10000
     },
     "inputWidgets": {},
     "nuid": "6f0dc8bb-e00f-4ca0-9d49-d99318bab9c3",
     "showTitle": false,
     "title": ""
    }
   },
   "outputs": [],
   "source": [
    "# import some libraries\n",
    "\n",
    "from pyspark.sql.functions import col, exp, percent_rank, percentile_approx"
   ]
  },
  {
   "cell_type": "code",
   "execution_count": 0,
   "metadata": {
    "application/vnd.databricks.v1+cell": {
     "cellMetadata": {
      "byteLimit": 2048000,
      "rowLimit": 10000
     },
     "inputWidgets": {},
     "nuid": "28ab333c-2701-41b7-8ce5-4adb002edfb2",
     "showTitle": false,
     "title": ""
    }
   },
   "outputs": [
    {
     "output_type": "stream",
     "name": "stdout",
     "output_type": "stream",
     "text": [
      "--2023-12-08 17:23:10--  https://drive.google.com/uc?id=1ygn8_Gh3wd7XvYebw3S7SV_87dw7BXjh\nResolving drive.google.com (drive.google.com)... 142.250.217.110, 2607:f8b0:400a:800::200e\nConnecting to drive.google.com (drive.google.com)|142.250.217.110|:443... connected.\nHTTP request sent, awaiting response... 303 See Other\nLocation: https://doc-0o-3c-docs.googleusercontent.com/docs/securesc/ha0ro937gcuc7l7deffksulhg5h7mbp1/kp9qva0de2hnq80uu2ikn6s07vvovnlj/1702056150000/09343199190924879457/*/1ygn8_Gh3wd7XvYebw3S7SV_87dw7BXjh?uuid=04318700-9550-4f83-b47e-11956a8211ef [following]\nWarning: wildcards not supported in HTTP.\n--2023-12-08 17:23:11--  https://doc-0o-3c-docs.googleusercontent.com/docs/securesc/ha0ro937gcuc7l7deffksulhg5h7mbp1/kp9qva0de2hnq80uu2ikn6s07vvovnlj/1702056150000/09343199190924879457/*/1ygn8_Gh3wd7XvYebw3S7SV_87dw7BXjh?uuid=04318700-9550-4f83-b47e-11956a8211ef\nResolving doc-0o-3c-docs.googleusercontent.com (doc-0o-3c-docs.googleusercontent.com)... 142.251.33.65, 2607:f8b0:400a:805::2001\nConnecting to doc-0o-3c-docs.googleusercontent.com (doc-0o-3c-docs.googleusercontent.com)|142.251.33.65|:443... connected.\nHTTP request sent, awaiting response... 200 OK\nLength: 165606 (162K) [application/x-zip-compressed]\nSaving to: ‘/tmp/datasets.zip’\n\n     0K .......... .......... .......... .......... .......... 30% 4.15M 0s\n    50K .......... .......... .......... .......... .......... 61% 6.09M 0s\n   100K .......... .......... .......... .......... .......... 92% 6.78M 0s\n   150K .......... .                                          100% 3.24M=0.03s\n\n2023-12-08 17:23:12 (5.17 MB/s) - ‘/tmp/datasets.zip’ saved [165606/165606]\n\n"
     ]
    }
   ],
   "source": [
    "%sh\n",
    "# download the data\n",
    "\n",
    "wget -O /tmp/datasets.zip https://drive.google.com/uc?id=1ygn8_Gh3wd7XvYebw3S7SV_87dw7BXjh&export=download"
   ]
  },
  {
   "cell_type": "code",
   "execution_count": 0,
   "metadata": {
    "application/vnd.databricks.v1+cell": {
     "cellMetadata": {
      "byteLimit": 2048000,
      "rowLimit": 10000
     },
     "inputWidgets": {},
     "nuid": "1e6d2ead-c3c1-4ffe-ada4-32e4ce66bcba",
     "showTitle": false,
     "title": ""
    }
   },
   "outputs": [
    {
     "output_type": "stream",
     "name": "stdout",
     "output_type": "stream",
     "text": [
      "Archive:  /tmp/datasets.zip\n  inflating: /tmp/Datasets/sf-airbnb-clean.parquet/_SUCCESS  \n  inflating: /tmp/Datasets/sf-airbnb-clean.parquet/_started_4320459746949313749  \n  inflating: /tmp/Datasets/sf-airbnb-clean.parquet/_committed_4320459746949313749  \n  inflating: /tmp/Datasets/sf-airbnb-clean.parquet/part-00000-tid-4320459746949313749-5c3d407c-c844-4016-97ad-2edec446aa62-6688-1-c000.snappy.parquet  \n"
     ]
    }
   ],
   "source": [
    "%sh\n",
    "# unzip the data that we want\n",
    "\n",
    "unzip /tmp/datasets.zip Datasets/sf-airbnb-clean.parquet/* -d /tmp/"
   ]
  },
  {
   "cell_type": "code",
   "execution_count": 0,
   "metadata": {
    "application/vnd.databricks.v1+cell": {
     "cellMetadata": {
      "byteLimit": 2048000,
      "rowLimit": 10000
     },
     "inputWidgets": {},
     "nuid": "9439a4de-e6bc-42e6-9f05-638c7dc3d6da",
     "showTitle": false,
     "title": ""
    }
   },
   "outputs": [
    {
     "output_type": "display_data",
     "data": {
      "text/html": [
       "<style scoped>\n",
       "  .ansiout {\n",
       "    display: block;\n",
       "    unicode-bidi: embed;\n",
       "    white-space: pre-wrap;\n",
       "    word-wrap: break-word;\n",
       "    word-break: break-all;\n",
       "    font-family: \"Menlo\", \"Monaco\", \"Consolas\", \"Ubuntu Mono\", \"Source Code Pro\", monospace;\n",
       "    font-size: 13px;\n",
       "    color: #555;\n",
       "    margin-left: 4px;\n",
       "    line-height: 19px;\n",
       "  }\n",
       "</style>\n",
       "<div class=\"ansiout\">res0: Boolean = true\n",
       "</div>"
      ]
     },
     "metadata": {
      "application/vnd.databricks.v1+output": {
       "addedWidgets": {},
       "arguments": {},
       "data": "<div class=\"ansiout\">res0: Boolean = true\n</div>",
       "datasetInfos": [],
       "metadata": {
        "isDbfsCommandResult": false
       },
       "removedWidgets": [],
       "type": "html"
      }
     },
     "output_type": "display_data"
    }
   ],
   "source": [
    "%fs\n",
    "\n",
    "mv -r file:/tmp/Datasets dbfs:/FileStore\n"
   ]
  },
  {
   "cell_type": "markdown",
   "metadata": {
    "application/vnd.databricks.v1+cell": {
     "cellMetadata": {
      "byteLimit": 2048000,
      "rowLimit": 10000
     },
     "inputWidgets": {},
     "nuid": "a8c29466-0a69-4701-b9aa-acf6af4a36d4",
     "showTitle": false,
     "title": ""
    }
   },
   "source": [
    "\n",
    "We will check if the ingestion and movement of the data went fine."
   ]
  },
  {
   "cell_type": "code",
   "execution_count": 0,
   "metadata": {
    "application/vnd.databricks.v1+cell": {
     "cellMetadata": {
      "byteLimit": 2048000,
      "rowLimit": 10000
     },
     "inputWidgets": {},
     "nuid": "eb187d64-0f54-49fb-991e-33a4dd28c2ed",
     "showTitle": false,
     "title": ""
    }
   },
   "outputs": [
    {
     "output_type": "display_data",
     "data": {
      "text/html": [
       "<style scoped>\n",
       "  .table-result-container {\n",
       "    max-height: 300px;\n",
       "    overflow: auto;\n",
       "  }\n",
       "  table, th, td {\n",
       "    border: 1px solid black;\n",
       "    border-collapse: collapse;\n",
       "  }\n",
       "  th, td {\n",
       "    padding: 5px;\n",
       "  }\n",
       "  th {\n",
       "    text-align: left;\n",
       "  }\n",
       "</style><div class='table-result-container'><table class='table-result'><thead style='background-color: white'><tr><th>path</th><th>name</th><th>size</th><th>modificationTime</th></tr></thead><tbody><tr><td>dbfs:/FileStore/sf-airbnb-clean.parquet/</td><td>sf-airbnb-clean.parquet/</td><td>0</td><td>0</td></tr><tr><td>dbfs:/FileStore/tables/</td><td>tables/</td><td>0</td><td>0</td></tr></tbody></table></div>"
      ]
     },
     "metadata": {
      "application/vnd.databricks.v1+output": {
       "addedWidgets": {},
       "aggData": [],
       "aggError": "",
       "aggOverflow": false,
       "aggSchema": [],
       "aggSeriesLimitReached": false,
       "aggType": "",
       "arguments": {},
       "columnCustomDisplayInfos": {},
       "data": [
        [
         "dbfs:/FileStore/sf-airbnb-clean.parquet/",
         "sf-airbnb-clean.parquet/",
         0,
         0
        ],
        [
         "dbfs:/FileStore/tables/",
         "tables/",
         0,
         0
        ]
       ],
       "datasetInfos": [],
       "dbfsResultPath": null,
       "isJsonSchema": true,
       "metadata": {
        "isDbfsCommandResult": false
       },
       "overflow": false,
       "plotOptions": {
        "customPlotOptions": {},
        "displayType": "table",
        "pivotAggregation": null,
        "pivotColumns": null,
        "xColumns": null,
        "yColumns": null
       },
       "removedWidgets": [],
       "schema": [
        {
         "metadata": "{}",
         "name": "path",
         "type": "\"string\""
        },
        {
         "metadata": "{}",
         "name": "name",
         "type": "\"string\""
        },
        {
         "metadata": "{}",
         "name": "size",
         "type": "\"long\""
        },
        {
         "metadata": "{}",
         "name": "modificationTime",
         "type": "\"long\""
        }
       ],
       "type": "table"
      }
     },
     "output_type": "display_data"
    }
   ],
   "source": [
    "%fs ls /FileStore"
   ]
  },
  {
   "cell_type": "code",
   "execution_count": 0,
   "metadata": {
    "application/vnd.databricks.v1+cell": {
     "cellMetadata": {
      "byteLimit": 2048000,
      "rowLimit": 10000
     },
     "inputWidgets": {},
     "nuid": "80ddf771-56a7-4455-996a-ba2630bcb4b2",
     "showTitle": false,
     "title": ""
    }
   },
   "outputs": [],
   "source": [
    "# read the data\n",
    "\n",
    "path = \"dbfs:/FileStore/sf-airbnb-clean.parquet/\"\n",
    "\n",
    "data = spark.read.parquet(path)"
   ]
  },
  {
   "cell_type": "code",
   "execution_count": 0,
   "metadata": {
    "application/vnd.databricks.v1+cell": {
     "cellMetadata": {
      "byteLimit": 2048000,
      "rowLimit": 10000
     },
     "inputWidgets": {},
     "nuid": "90b6897e-0c8a-4cb9-8c53-ebf0014835d9",
     "showTitle": false,
     "title": ""
    }
   },
   "outputs": [
    {
     "output_type": "display_data",
     "data": {
      "text/html": [
       "<style scoped>\n",
       "  .table-result-container {\n",
       "    max-height: 300px;\n",
       "    overflow: auto;\n",
       "  }\n",
       "  table, th, td {\n",
       "    border: 1px solid black;\n",
       "    border-collapse: collapse;\n",
       "  }\n",
       "  th, td {\n",
       "    padding: 5px;\n",
       "  }\n",
       "  th {\n",
       "    text-align: left;\n",
       "  }\n",
       "</style><div class='table-result-container'><table class='table-result'><thead style='background-color: white'><tr><th>host_is_superhost</th><th>cancellation_policy</th><th>instant_bookable</th><th>host_total_listings_count</th><th>neighbourhood_cleansed</th><th>latitude</th><th>longitude</th><th>property_type</th><th>room_type</th><th>accommodates</th><th>bathrooms</th><th>bedrooms</th><th>beds</th><th>bed_type</th><th>minimum_nights</th><th>number_of_reviews</th><th>review_scores_rating</th><th>review_scores_accuracy</th><th>review_scores_cleanliness</th><th>review_scores_checkin</th><th>review_scores_communication</th><th>review_scores_location</th><th>review_scores_value</th><th>price</th><th>bedrooms_na</th><th>bathrooms_na</th><th>beds_na</th><th>review_scores_rating_na</th><th>review_scores_accuracy_na</th><th>review_scores_cleanliness_na</th><th>review_scores_checkin_na</th><th>review_scores_communication_na</th><th>review_scores_location_na</th><th>review_scores_value_na</th></tr></thead><tbody><tr><td>f</td><td>moderate</td><td>f</td><td>1.0</td><td>Haight Ashbury</td><td>37.77575</td><td>-122.44397</td><td>Apartment</td><td>Entire home/apt</td><td>2.0</td><td>1.0</td><td>1.0</td><td>1.0</td><td>Real Bed</td><td>30.0</td><td>27.0</td><td>97.0</td><td>10.0</td><td>10.0</td><td>10.0</td><td>10.0</td><td>9.0</td><td>9.0</td><td>130.0</td><td>0.0</td><td>0.0</td><td>0.0</td><td>0.0</td><td>0.0</td><td>0.0</td><td>0.0</td><td>0.0</td><td>0.0</td><td>0.0</td></tr><tr><td>t</td><td>moderate</td><td>f</td><td>1.0</td><td>Haight Ashbury</td><td>37.76351</td><td>-122.44584</td><td>House</td><td>Private room</td><td>2.0</td><td>1.0</td><td>1.0</td><td>1.0</td><td>Real Bed</td><td>2.0</td><td>167.0</td><td>100.0</td><td>10.0</td><td>10.0</td><td>10.0</td><td>10.0</td><td>10.0</td><td>10.0</td><td>150.0</td><td>0.0</td><td>0.0</td><td>0.0</td><td>0.0</td><td>0.0</td><td>0.0</td><td>0.0</td><td>0.0</td><td>0.0</td><td>0.0</td></tr><tr><td>t</td><td>strict_14_with_grace_period</td><td>f</td><td>2.0</td><td>South of Market</td><td>37.78453</td><td>-122.39141</td><td>Loft</td><td>Entire home/apt</td><td>4.0</td><td>2.0</td><td>2.0</td><td>2.0</td><td>Real Bed</td><td>30.0</td><td>24.0</td><td>98.0</td><td>10.0</td><td>10.0</td><td>10.0</td><td>10.0</td><td>10.0</td><td>10.0</td><td>250.0</td><td>0.0</td><td>0.0</td><td>0.0</td><td>0.0</td><td>0.0</td><td>0.0</td><td>0.0</td><td>0.0</td><td>0.0</td><td>0.0</td></tr><tr><td>f</td><td>flexible</td><td>f</td><td>1.0</td><td>Haight Ashbury</td><td>37.76637</td><td>-122.4467</td><td>House</td><td>Private room</td><td>2.0</td><td>1.0</td><td>1.0</td><td>1.0</td><td>Real Bed</td><td>7.0</td><td>50.0</td><td>96.0</td><td>10.0</td><td>10.0</td><td>10.0</td><td>10.0</td><td>10.0</td><td>10.0</td><td>80.0</td><td>0.0</td><td>0.0</td><td>0.0</td><td>0.0</td><td>0.0</td><td>0.0</td><td>0.0</td><td>0.0</td><td>0.0</td><td>0.0</td></tr><tr><td>f</td><td>strict_14_with_grace_period</td><td>f</td><td>1.0</td><td>Diamond Heights</td><td>37.74132</td><td>-122.43705</td><td>Townhouse</td><td>Entire home/apt</td><td>6.0</td><td>3.0</td><td>3.0</td><td>3.0</td><td>Real Bed</td><td>7.0</td><td>5.0</td><td>100.0</td><td>10.0</td><td>10.0</td><td>10.0</td><td>10.0</td><td>9.0</td><td>10.0</td><td>295.0</td><td>0.0</td><td>0.0</td><td>0.0</td><td>0.0</td><td>0.0</td><td>0.0</td><td>0.0</td><td>0.0</td><td>0.0</td><td>0.0</td></tr><tr><td>t</td><td>strict_14_with_grace_period</td><td>f</td><td>12.0</td><td>Castro/Upper Market</td><td>37.75903</td><td>-122.43726</td><td>Apartment</td><td>Private room</td><td>1.0</td><td>2.0</td><td>1.0</td><td>1.0</td><td>Real Bed</td><td>30.0</td><td>7.0</td><td>100.0</td><td>10.0</td><td>10.0</td><td>10.0</td><td>10.0</td><td>9.0</td><td>10.0</td><td>65.0</td><td>0.0</td><td>0.0</td><td>0.0</td><td>0.0</td><td>0.0</td><td>0.0</td><td>0.0</td><td>0.0</td><td>0.0</td><td>0.0</td></tr><tr><td>t</td><td>moderate</td><td>t</td><td>1.0</td><td>Potrero Hill</td><td>37.75437</td><td>-122.39897</td><td>House</td><td>Entire home/apt</td><td>3.0</td><td>1.0</td><td>2.0</td><td>2.0</td><td>Real Bed</td><td>30.0</td><td>12.0</td><td>95.0</td><td>10.0</td><td>10.0</td><td>10.0</td><td>10.0</td><td>10.0</td><td>10.0</td><td>135.0</td><td>0.0</td><td>0.0</td><td>0.0</td><td>0.0</td><td>0.0</td><td>0.0</td><td>0.0</td><td>0.0</td><td>0.0</td><td>0.0</td></tr><tr><td>f</td><td>strict_14_with_grace_period</td><td>t</td><td>165.0</td><td>Financial District</td><td>37.79738</td><td>-122.39756</td><td>Apartment</td><td>Entire home/apt</td><td>2.0</td><td>1.0</td><td>1.0</td><td>1.0</td><td>Real Bed</td><td>30.0</td><td>0.0</td><td>98.0</td><td>10.0</td><td>10.0</td><td>10.0</td><td>10.0</td><td>10.0</td><td>10.0</td><td>170.0</td><td>0.0</td><td>0.0</td><td>0.0</td><td>1.0</td><td>1.0</td><td>1.0</td><td>1.0</td><td>1.0</td><td>1.0</td><td>1.0</td></tr><tr><td>f</td><td>strict_14_with_grace_period</td><td>f</td><td>1.0</td><td>South of Market</td><td>37.77552</td><td>-122.40926</td><td>Apartment</td><td>Private room</td><td>6.0</td><td>1.0</td><td>1.0</td><td>2.0</td><td>Real Bed</td><td>30.0</td><td>0.0</td><td>98.0</td><td>10.0</td><td>10.0</td><td>10.0</td><td>10.0</td><td>10.0</td><td>10.0</td><td>65.0</td><td>0.0</td><td>0.0</td><td>0.0</td><td>1.0</td><td>1.0</td><td>1.0</td><td>1.0</td><td>1.0</td><td>1.0</td><td>1.0</td></tr><tr><td>f</td><td>flexible</td><td>t</td><td>8.0</td><td>Downtown/Civic Center</td><td>37.78821</td><td>-122.41664</td><td>Apartment</td><td>Private room</td><td>1.0</td><td>2.0</td><td>1.0</td><td>1.0</td><td>Real Bed</td><td>30.0</td><td>0.0</td><td>98.0</td><td>10.0</td><td>10.0</td><td>10.0</td><td>10.0</td><td>10.0</td><td>10.0</td><td>50.0</td><td>0.0</td><td>0.0</td><td>0.0</td><td>1.0</td><td>1.0</td><td>1.0</td><td>1.0</td><td>1.0</td><td>1.0</td><td>1.0</td></tr></tbody></table></div>"
      ]
     },
     "metadata": {
      "application/vnd.databricks.v1+output": {
       "addedWidgets": {},
       "aggData": [],
       "aggError": "",
       "aggOverflow": false,
       "aggSchema": [],
       "aggSeriesLimitReached": false,
       "aggType": "",
       "arguments": {},
       "columnCustomDisplayInfos": {},
       "data": [
        [
         "f",
         "moderate",
         "f",
         1.0,
         "Haight Ashbury",
         37.77575,
         -122.44397,
         "Apartment",
         "Entire home/apt",
         2.0,
         1.0,
         1.0,
         1.0,
         "Real Bed",
         30.0,
         27.0,
         97.0,
         10.0,
         10.0,
         10.0,
         10.0,
         9.0,
         9.0,
         130.0,
         0.0,
         0.0,
         0.0,
         0.0,
         0.0,
         0.0,
         0.0,
         0.0,
         0.0,
         0.0
        ],
        [
         "t",
         "moderate",
         "f",
         1.0,
         "Haight Ashbury",
         37.76351,
         -122.44584,
         "House",
         "Private room",
         2.0,
         1.0,
         1.0,
         1.0,
         "Real Bed",
         2.0,
         167.0,
         100.0,
         10.0,
         10.0,
         10.0,
         10.0,
         10.0,
         10.0,
         150.0,
         0.0,
         0.0,
         0.0,
         0.0,
         0.0,
         0.0,
         0.0,
         0.0,
         0.0,
         0.0
        ],
        [
         "t",
         "strict_14_with_grace_period",
         "f",
         2.0,
         "South of Market",
         37.78453,
         -122.39141,
         "Loft",
         "Entire home/apt",
         4.0,
         2.0,
         2.0,
         2.0,
         "Real Bed",
         30.0,
         24.0,
         98.0,
         10.0,
         10.0,
         10.0,
         10.0,
         10.0,
         10.0,
         250.0,
         0.0,
         0.0,
         0.0,
         0.0,
         0.0,
         0.0,
         0.0,
         0.0,
         0.0,
         0.0
        ],
        [
         "f",
         "flexible",
         "f",
         1.0,
         "Haight Ashbury",
         37.76637,
         -122.4467,
         "House",
         "Private room",
         2.0,
         1.0,
         1.0,
         1.0,
         "Real Bed",
         7.0,
         50.0,
         96.0,
         10.0,
         10.0,
         10.0,
         10.0,
         10.0,
         10.0,
         80.0,
         0.0,
         0.0,
         0.0,
         0.0,
         0.0,
         0.0,
         0.0,
         0.0,
         0.0,
         0.0
        ],
        [
         "f",
         "strict_14_with_grace_period",
         "f",
         1.0,
         "Diamond Heights",
         37.74132,
         -122.43705,
         "Townhouse",
         "Entire home/apt",
         6.0,
         3.0,
         3.0,
         3.0,
         "Real Bed",
         7.0,
         5.0,
         100.0,
         10.0,
         10.0,
         10.0,
         10.0,
         9.0,
         10.0,
         295.0,
         0.0,
         0.0,
         0.0,
         0.0,
         0.0,
         0.0,
         0.0,
         0.0,
         0.0,
         0.0
        ],
        [
         "t",
         "strict_14_with_grace_period",
         "f",
         12.0,
         "Castro/Upper Market",
         37.75903,
         -122.43726,
         "Apartment",
         "Private room",
         1.0,
         2.0,
         1.0,
         1.0,
         "Real Bed",
         30.0,
         7.0,
         100.0,
         10.0,
         10.0,
         10.0,
         10.0,
         9.0,
         10.0,
         65.0,
         0.0,
         0.0,
         0.0,
         0.0,
         0.0,
         0.0,
         0.0,
         0.0,
         0.0,
         0.0
        ],
        [
         "t",
         "moderate",
         "t",
         1.0,
         "Potrero Hill",
         37.75437,
         -122.39897,
         "House",
         "Entire home/apt",
         3.0,
         1.0,
         2.0,
         2.0,
         "Real Bed",
         30.0,
         12.0,
         95.0,
         10.0,
         10.0,
         10.0,
         10.0,
         10.0,
         10.0,
         135.0,
         0.0,
         0.0,
         0.0,
         0.0,
         0.0,
         0.0,
         0.0,
         0.0,
         0.0,
         0.0
        ],
        [
         "f",
         "strict_14_with_grace_period",
         "t",
         165.0,
         "Financial District",
         37.79738,
         -122.39756,
         "Apartment",
         "Entire home/apt",
         2.0,
         1.0,
         1.0,
         1.0,
         "Real Bed",
         30.0,
         0.0,
         98.0,
         10.0,
         10.0,
         10.0,
         10.0,
         10.0,
         10.0,
         170.0,
         0.0,
         0.0,
         0.0,
         1.0,
         1.0,
         1.0,
         1.0,
         1.0,
         1.0,
         1.0
        ],
        [
         "f",
         "strict_14_with_grace_period",
         "f",
         1.0,
         "South of Market",
         37.77552,
         -122.40926,
         "Apartment",
         "Private room",
         6.0,
         1.0,
         1.0,
         2.0,
         "Real Bed",
         30.0,
         0.0,
         98.0,
         10.0,
         10.0,
         10.0,
         10.0,
         10.0,
         10.0,
         65.0,
         0.0,
         0.0,
         0.0,
         1.0,
         1.0,
         1.0,
         1.0,
         1.0,
         1.0,
         1.0
        ],
        [
         "f",
         "flexible",
         "t",
         8.0,
         "Downtown/Civic Center",
         37.78821,
         -122.41664,
         "Apartment",
         "Private room",
         1.0,
         2.0,
         1.0,
         1.0,
         "Real Bed",
         30.0,
         0.0,
         98.0,
         10.0,
         10.0,
         10.0,
         10.0,
         10.0,
         10.0,
         50.0,
         0.0,
         0.0,
         0.0,
         1.0,
         1.0,
         1.0,
         1.0,
         1.0,
         1.0,
         1.0
        ]
       ],
       "datasetInfos": [],
       "dbfsResultPath": null,
       "isJsonSchema": true,
       "metadata": {},
       "overflow": false,
       "plotOptions": {
        "customPlotOptions": {},
        "displayType": "table",
        "pivotAggregation": null,
        "pivotColumns": null,
        "xColumns": null,
        "yColumns": null
       },
       "removedWidgets": [],
       "schema": [
        {
         "metadata": "{}",
         "name": "host_is_superhost",
         "type": "\"string\""
        },
        {
         "metadata": "{}",
         "name": "cancellation_policy",
         "type": "\"string\""
        },
        {
         "metadata": "{}",
         "name": "instant_bookable",
         "type": "\"string\""
        },
        {
         "metadata": "{}",
         "name": "host_total_listings_count",
         "type": "\"double\""
        },
        {
         "metadata": "{}",
         "name": "neighbourhood_cleansed",
         "type": "\"string\""
        },
        {
         "metadata": "{}",
         "name": "latitude",
         "type": "\"double\""
        },
        {
         "metadata": "{}",
         "name": "longitude",
         "type": "\"double\""
        },
        {
         "metadata": "{}",
         "name": "property_type",
         "type": "\"string\""
        },
        {
         "metadata": "{}",
         "name": "room_type",
         "type": "\"string\""
        },
        {
         "metadata": "{}",
         "name": "accommodates",
         "type": "\"double\""
        },
        {
         "metadata": "{}",
         "name": "bathrooms",
         "type": "\"double\""
        },
        {
         "metadata": "{}",
         "name": "bedrooms",
         "type": "\"double\""
        },
        {
         "metadata": "{}",
         "name": "beds",
         "type": "\"double\""
        },
        {
         "metadata": "{}",
         "name": "bed_type",
         "type": "\"string\""
        },
        {
         "metadata": "{}",
         "name": "minimum_nights",
         "type": "\"double\""
        },
        {
         "metadata": "{}",
         "name": "number_of_reviews",
         "type": "\"double\""
        },
        {
         "metadata": "{}",
         "name": "review_scores_rating",
         "type": "\"double\""
        },
        {
         "metadata": "{}",
         "name": "review_scores_accuracy",
         "type": "\"double\""
        },
        {
         "metadata": "{}",
         "name": "review_scores_cleanliness",
         "type": "\"double\""
        },
        {
         "metadata": "{}",
         "name": "review_scores_checkin",
         "type": "\"double\""
        },
        {
         "metadata": "{}",
         "name": "review_scores_communication",
         "type": "\"double\""
        },
        {
         "metadata": "{}",
         "name": "review_scores_location",
         "type": "\"double\""
        },
        {
         "metadata": "{}",
         "name": "review_scores_value",
         "type": "\"double\""
        },
        {
         "metadata": "{}",
         "name": "price",
         "type": "\"double\""
        },
        {
         "metadata": "{}",
         "name": "bedrooms_na",
         "type": "\"double\""
        },
        {
         "metadata": "{}",
         "name": "bathrooms_na",
         "type": "\"double\""
        },
        {
         "metadata": "{}",
         "name": "beds_na",
         "type": "\"double\""
        },
        {
         "metadata": "{}",
         "name": "review_scores_rating_na",
         "type": "\"double\""
        },
        {
         "metadata": "{}",
         "name": "review_scores_accuracy_na",
         "type": "\"double\""
        },
        {
         "metadata": "{}",
         "name": "review_scores_cleanliness_na",
         "type": "\"double\""
        },
        {
         "metadata": "{}",
         "name": "review_scores_checkin_na",
         "type": "\"double\""
        },
        {
         "metadata": "{}",
         "name": "review_scores_communication_na",
         "type": "\"double\""
        },
        {
         "metadata": "{}",
         "name": "review_scores_location_na",
         "type": "\"double\""
        },
        {
         "metadata": "{}",
         "name": "review_scores_value_na",
         "type": "\"double\""
        }
       ],
       "type": "table"
      }
     },
     "output_type": "display_data"
    }
   ],
   "source": [
    "# show a sample of our data\n",
    " \n",
    "data.sample(0.0015).display()"
   ]
  },
  {
   "cell_type": "code",
   "execution_count": 0,
   "metadata": {
    "application/vnd.databricks.v1+cell": {
     "cellMetadata": {
      "byteLimit": 2048000,
      "rowLimit": 10000
     },
     "inputWidgets": {},
     "nuid": "d401555e-2c1f-4a47-88ab-957f785acf09",
     "showTitle": false,
     "title": ""
    }
   },
   "outputs": [
    {
     "output_type": "stream",
     "name": "stdout",
     "output_type": "stream",
     "text": [
      "Out[6]: ['host_is_superhost',\n 'cancellation_policy',\n 'instant_bookable',\n 'host_total_listings_count',\n 'neighbourhood_cleansed',\n 'latitude',\n 'longitude',\n 'property_type',\n 'room_type',\n 'accommodates',\n 'bathrooms',\n 'bedrooms',\n 'beds',\n 'bed_type',\n 'minimum_nights',\n 'number_of_reviews',\n 'review_scores_rating',\n 'review_scores_accuracy',\n 'review_scores_cleanliness',\n 'review_scores_checkin',\n 'review_scores_communication',\n 'review_scores_location',\n 'review_scores_value',\n 'price',\n 'bedrooms_na',\n 'bathrooms_na',\n 'beds_na',\n 'review_scores_rating_na',\n 'review_scores_accuracy_na',\n 'review_scores_cleanliness_na',\n 'review_scores_checkin_na',\n 'review_scores_communication_na',\n 'review_scores_location_na',\n 'review_scores_value_na']"
     ]
    }
   ],
   "source": [
    "# see the columns that we have\n",
    "\n",
    "data.columns"
   ]
  },
  {
   "cell_type": "code",
   "execution_count": 0,
   "metadata": {
    "application/vnd.databricks.v1+cell": {
     "cellMetadata": {
      "byteLimit": 2048000,
      "rowLimit": 10000
     },
     "inputWidgets": {},
     "nuid": "79cda1d2-568f-4c2c-b992-7007f434835d",
     "showTitle": false,
     "title": ""
    }
   },
   "outputs": [
    {
     "output_type": "stream",
     "name": "stdout",
     "output_type": "stream",
     "text": [
      "+-------+------------------+------------------+--------------------+\n|summary|             price|          bedrooms|review_scores_rating|\n+-------+------------------+------------------+--------------------+\n|  count|              7146|              7146|                7146|\n|   mean|213.30982367758187|1.3427092079485026|   96.03428491463755|\n|    min|              10.0|               0.0|                20.0|\n|    max|           10000.0|              14.0|               100.0|\n+-------+------------------+------------------+--------------------+\n\n"
     ]
    }
   ],
   "source": [
    "# we see information about some columns that we are interested in\n",
    "\n",
    "data.select('price', 'bedrooms', 'review_scores_rating').summary('count', 'mean','min','max').show()"
   ]
  },
  {
   "cell_type": "markdown",
   "metadata": {
    "application/vnd.databricks.v1+cell": {
     "cellMetadata": {
      "byteLimit": 2048000,
      "rowLimit": 10000
     },
     "inputWidgets": {},
     "nuid": "a0d3e247-03ec-4039-9146-6850ab16ff13",
     "showTitle": false,
     "title": ""
    }
   },
   "source": [
    "\n",
    "# 2. ALGORITHM CREATION\n",
    "\n",
    "Continuing with our predictive modeling project for accommodation pricing, the next essential step is the creation of the algorithm. This phase focuses on developing and tuning a machine learning model capable of accurately predicting accommodation prices based on the collected data.\n",
    "Data Initialization and Preprocessing\n",
    "\n",
    "Before diving into model building, proper data preprocessing is crucial. This involves cleaning the data, addressing missing values, and possibly performing feature transformation to enhance the data's relevance for our model. For example, we can transform categorical variables into numerical ones using techniques like one-hot encoding.\n",
    "\n",
    "\n",
    "Once our data is prepared, we'll select an appropriate machine learning model. Given the nature of our problem, which is a regression task (predicting prices, a continuous value), we might consider models like linear regression.\n",
    "\n",
    "Model Training\n",
    "\n",
    "The chosen model will be trained using a portion of our dataset. During this process, the algorithm will learn to recognize patterns and relationships between the features of the accommodations and their prices.\n",
    "\n",
    "Model Validation and Tuning\n",
    "\n",
    "After training, it's crucial to validate the model's performance using a part of the dataset that wasn't used in training (test data). We will evaluate the model based on metrics such as Mean Squared Error (MSE) or the coefficient of determination (R²). Depending on the results, we might adjust the model's parameters or even reconsider our choice of model if necessary.\n",
    "\n",
    "Implementation and Testing\n",
    "\n",
    "Finally, once we are satisfied with the model's performance, we will implement it to make predictions on new data. It's essential to conduct thorough testing to ensure that the model behaves as expected in different scenarios and with different types of accommodation data.\n",
    "\n",
    "This algorithm creation process is iterative and may require several cycles of adjustments and testing to fine-tune the model and ensure it provides accurate and reliable predictions."
   ]
  },
  {
   "cell_type": "code",
   "execution_count": 0,
   "metadata": {
    "application/vnd.databricks.v1+cell": {
     "cellMetadata": {
      "byteLimit": 2048000,
      "rowLimit": 10000
     },
     "inputWidgets": {},
     "nuid": "41231aca-2be5-41ab-b7a7-a101808875cf",
     "showTitle": false,
     "title": ""
    }
   },
   "outputs": [],
   "source": [
    "# we divide the data in train and test \n",
    "\n",
    "split_data = data.randomSplit([0.8, 0.2], seed = 12)"
   ]
  },
  {
   "cell_type": "code",
   "execution_count": 0,
   "metadata": {
    "application/vnd.databricks.v1+cell": {
     "cellMetadata": {
      "byteLimit": 2048000,
      "rowLimit": 10000
     },
     "inputWidgets": {},
     "nuid": "41ceb799-8c8d-4443-98c1-732c6be4dffd",
     "showTitle": false,
     "title": ""
    }
   },
   "outputs": [
    {
     "output_type": "stream",
     "name": "stdout",
     "output_type": "stream",
     "text": [
      "+-----------+\n|   features|\n+-----------+\n|[1.0,100.0]|\n| [1.0,97.0]|\n| [1.0,98.0]|\n|[1.0,100.0]|\n| [3.0,98.0]|\n+-----------+\nonly showing top 5 rows\n\n"
     ]
    }
   ],
   "source": [
    "# we extract the data that we want to use in the prediction, and create a vector with them\n",
    "\n",
    "from pyspark.ml.feature import VectorAssembler\n",
    "\n",
    "vecAssembler = VectorAssembler(inputCols = ['bedrooms', 'review_scores_rating'], outputCol = 'features')\n",
    "trainVec = vecAssembler.transform(split_data[0])\n",
    "\n",
    "trainVec.select('features').show(5)"
   ]
  },
  {
   "cell_type": "code",
   "execution_count": 0,
   "metadata": {
    "application/vnd.databricks.v1+cell": {
     "cellMetadata": {
      "byteLimit": 2048000,
      "rowLimit": 10000
     },
     "inputWidgets": {},
     "nuid": "b4a50fea-05a7-4e55-9e5e-6af3c34d45e9",
     "showTitle": false,
     "title": ""
    }
   },
   "outputs": [],
   "source": [
    "# we create the model and train it\n",
    "\n",
    "from  pyspark.ml.regression import LinearRegression \n",
    "\n",
    "LR = LinearRegression(featuresCol='features', labelCol= 'price')\n",
    "LRFIT = LR.fit(trainVec)"
   ]
  },
  {
   "cell_type": "code",
   "execution_count": 0,
   "metadata": {
    "application/vnd.databricks.v1+cell": {
     "cellMetadata": {
      "byteLimit": 2048000,
      "rowLimit": 10000
     },
     "inputWidgets": {},
     "nuid": "0673ef95-69b5-4ce1-b62e-b23d62fba233",
     "showTitle": false,
     "title": ""
    }
   },
   "outputs": [
    {
     "output_type": "stream",
     "name": "stdout",
     "output_type": "stream",
     "text": [
      "Price = 109.56 * bedrooms + 2.7 * review_scores_rating - 195.12\n"
     ]
    }
   ],
   "source": [
    "# we can say that the regression is\n",
    "\n",
    "print(f\"Price = {round(LRFIT.coefficients[0], 2)} * bedrooms + {round(LRFIT.coefficients[1], 2)} * review_scores_rating - {round(LRFIT.intercept*-1, 2)}\")"
   ]
  },
  {
   "cell_type": "code",
   "execution_count": 0,
   "metadata": {
    "application/vnd.databricks.v1+cell": {
     "cellMetadata": {
      "byteLimit": 2048000,
      "rowLimit": 10000
     },
     "inputWidgets": {},
     "nuid": "6f8275d3-6772-4d70-9cfe-ba1b54ab0edd",
     "showTitle": false,
     "title": ""
    }
   },
   "outputs": [],
   "source": [
    "# after creating the model, we will create a pipeline to do all the process\n",
    "\n",
    "from pyspark.ml import Pipeline\n",
    "\n",
    "pipeline_1 = Pipeline(stages = [vecAssembler, LR])\n",
    "pipModel = pipeline_1.fit(split_data[0])"
   ]
  },
  {
   "cell_type": "code",
   "execution_count": 0,
   "metadata": {
    "application/vnd.databricks.v1+cell": {
     "cellMetadata": {
      "byteLimit": 2048000,
      "rowLimit": 10000
     },
     "inputWidgets": {},
     "nuid": "df53e3fa-9580-4e9c-bdb0-ac5a4899c55c",
     "showTitle": false,
     "title": ""
    }
   },
   "outputs": [
    {
     "output_type": "stream",
     "name": "stdout",
     "output_type": "stream",
     "text": [
      "+--------+--------------------+-----+------------------+\n|bedrooms|review_scores_rating|price|        prediction|\n+--------+--------------------+-----+------------------+\n|     1.0|               100.0|200.0|184.09894213154132|\n|     1.0|                97.0| 85.0| 176.0091804061193|\n|     1.0|                98.0| 95.0|178.70576764792662|\n|     1.0|               100.0|250.0|184.09894213154132|\n|     3.0|                98.0|250.0|397.82480531440353|\n|     1.0|                98.0| 45.0|178.70576764792662|\n|     1.0|                98.0| 70.0|178.70576764792662|\n|     1.0|                96.0|105.0|173.31259316431198|\n|     1.0|                91.0| 86.0| 159.8296569552752|\n|     1.0|                95.0|100.0| 170.6160059225046|\n+--------+--------------------+-----+------------------+\nonly showing top 10 rows\n\n"
     ]
    }
   ],
   "source": [
    "# once we have created the pipeline we can transform our data\n",
    "\n",
    "pipTrainData = pipModel.transform(split_data[0])\n",
    "\n",
    "pipTrainData.select('bedrooms', 'review_scores_rating', 'price', 'prediction').show(10)"
   ]
  },
  {
   "cell_type": "code",
   "execution_count": 0,
   "metadata": {
    "application/vnd.databricks.v1+cell": {
     "cellMetadata": {},
     "inputWidgets": {},
     "nuid": "f6b3411a-9cb2-40a6-924e-76095e68da81",
     "showTitle": false,
     "title": ""
    }
   },
   "outputs": [],
   "source": [
    "display(trainVec)"
   ]
  },
  {
   "cell_type": "markdown",
   "metadata": {
    "application/vnd.databricks.v1+cell": {
     "cellMetadata": {},
     "inputWidgets": {},
     "nuid": "6f8a6b33-7520-4911-99b6-c4101f4cbd42",
     "showTitle": false,
     "title": ""
    }
   },
   "source": [
    "\n",
    "After we create and train the model, its time to evaluate it.\n",
    "We will use the metric RMSE, most commun used in this cases.\n",
    "\n",
    "First, we will calculate the RSME that we would have obtained, if we were using the average of the price instead of the prediction. Then we will be able to know if it was worth to made the model to predict, or if its neccessary to apply other steps."
   ]
  },
  {
   "cell_type": "code",
   "execution_count": 0,
   "metadata": {
    "application/vnd.databricks.v1+cell": {
     "cellMetadata": {
      "byteLimit": 2048000,
      "rowLimit": 10000
     },
     "inputWidgets": {},
     "nuid": "d6cf2b1e-76a0-41ee-bf3e-33124795617f",
     "showTitle": false,
     "title": ""
    }
   },
   "outputs": [],
   "source": [
    "# create a column with the average of the price\n",
    "\n",
    "from pyspark.sql.functions import avg, lit\n",
    "\n",
    "avg_price = split_data[0].select(avg('price')).first()[0]\n",
    "data_avgprice = pipTrainData.withColumn('avg_price', lit(avg_price))"
   ]
  },
  {
   "cell_type": "code",
   "execution_count": 0,
   "metadata": {
    "application/vnd.databricks.v1+cell": {
     "cellMetadata": {
      "byteLimit": 2048000,
      "rowLimit": 10000
     },
     "inputWidgets": {},
     "nuid": "b0526dc5-3975-4671-a264-65cf1b09ea87",
     "showTitle": false,
     "title": ""
    }
   },
   "outputs": [
    {
     "output_type": "stream",
     "name": "stdout",
     "output_type": "stream",
     "text": [
      "Out[50]: ['host_is_superhost',\n 'cancellation_policy',\n 'instant_bookable',\n 'host_total_listings_count',\n 'neighbourhood_cleansed',\n 'latitude',\n 'longitude',\n 'property_type',\n 'room_type',\n 'accommodates',\n 'bathrooms',\n 'bedrooms',\n 'beds',\n 'bed_type',\n 'minimum_nights',\n 'number_of_reviews',\n 'review_scores_rating',\n 'review_scores_accuracy',\n 'review_scores_cleanliness',\n 'review_scores_checkin',\n 'review_scores_communication',\n 'review_scores_location',\n 'review_scores_value',\n 'price',\n 'bedrooms_na',\n 'bathrooms_na',\n 'beds_na',\n 'review_scores_rating_na',\n 'review_scores_accuracy_na',\n 'review_scores_cleanliness_na',\n 'review_scores_checkin_na',\n 'review_scores_communication_na',\n 'review_scores_location_na',\n 'review_scores_value_na',\n 'features',\n 'prediction',\n 'avg_price']"
     ]
    }
   ],
   "source": [
    "data_avgprice.columns"
   ]
  },
  {
   "cell_type": "code",
   "execution_count": 0,
   "metadata": {
    "application/vnd.databricks.v1+cell": {
     "cellMetadata": {
      "byteLimit": 2048000,
      "rowLimit": 10000
     },
     "inputWidgets": {},
     "nuid": "be6f8ffd-511e-46dd-9a90-c3630d55c8f8",
     "showTitle": false,
     "title": ""
    }
   },
   "outputs": [
    {
     "output_type": "stream",
     "name": "stdout",
     "output_type": "stream",
     "text": [
      "+-----------------+\n|        avg_price|\n+-----------------+\n|210.4009458749343|\n|210.4009458749343|\n|210.4009458749343|\n|210.4009458749343|\n|210.4009458749343|\n|210.4009458749343|\n|210.4009458749343|\n|210.4009458749343|\n|210.4009458749343|\n|210.4009458749343|\n+-----------------+\nonly showing top 10 rows\n\n"
     ]
    }
   ],
   "source": [
    "data_avgprice.select('avg_price').show(10)"
   ]
  },
  {
   "cell_type": "code",
   "execution_count": 0,
   "metadata": {
    "application/vnd.databricks.v1+cell": {
     "cellMetadata": {
      "byteLimit": 2048000,
      "rowLimit": 10000
     },
     "inputWidgets": {},
     "nuid": "50df3a2b-5e48-4a32-a89b-2e57c5d82ea9",
     "showTitle": false,
     "title": ""
    }
   },
   "outputs": [],
   "source": [
    "# evaluate the model using the avg\n",
    "\n",
    "from pyspark.ml.evaluation import RegressionEvaluator\n",
    "\n",
    "meanEvaluator = RegressionEvaluator(predictionCol = 'avg_price', labelCol = 'price', metricName = 'rmse')\n",
    "\n",
    "rmse_avg = meanEvaluator.evaluate(data_avgprice)\n"
   ]
  },
  {
   "cell_type": "code",
   "execution_count": 0,
   "metadata": {
    "application/vnd.databricks.v1+cell": {
     "cellMetadata": {
      "byteLimit": 2048000,
      "rowLimit": 10000
     },
     "inputWidgets": {},
     "nuid": "10aa1232-b225-47a4-8f18-0b08c3ed9e72",
     "showTitle": false,
     "title": ""
    }
   },
   "outputs": [],
   "source": [
    "# evaluate the model using the prediction\n",
    "\n",
    "Evaluator = RegressionEvaluator(predictionCol = 'prediction', labelCol = 'price', metricName = 'rmse')\n",
    "\n",
    "rmse_prediction = Evaluator.evaluate(data_avgprice)"
   ]
  },
  {
   "cell_type": "code",
   "execution_count": 0,
   "metadata": {
    "application/vnd.databricks.v1+cell": {
     "cellMetadata": {
      "byteLimit": 2048000,
      "rowLimit": 10000
     },
     "inputWidgets": {},
     "nuid": "10aad255-754f-43d0-8527-cd74833b2678",
     "showTitle": false,
     "title": ""
    }
   },
   "outputs": [
    {
     "output_type": "stream",
     "name": "stdout",
     "output_type": "stream",
     "text": [
      "We have a RMSE of: 280.6 using the average as price, and 260.44 using the model to predict the price\n"
     ]
    }
   ],
   "source": [
    "print(f\"We have a RMSE of: {round(rmse_avg, 2)} using the average as price, and {round(rmse_prediction, 2)} using the model to predict the price.\")"
   ]
  },
  {
   "cell_type": "markdown",
   "metadata": {
    "application/vnd.databricks.v1+cell": {
     "cellMetadata": {},
     "inputWidgets": {},
     "nuid": "573214f5-004a-4c23-8613-1d045555d4b7",
     "showTitle": false,
     "title": ""
    }
   },
   "source": [
    "\n",
    "# 3.CONCLUSION\n",
    "\n",
    "In our endeavor to predict accommodation prices using a Linear Regression model, we have achieved a significant improvement over a baseline approach that uses the average price. Our model yielded a Root Mean Square Error (RMSE) of 260.44, which is notably lower than the RMSE of 280.6 obtained when simply using the average price as a predictor. This indicates that our model provides a more accurate and nuanced understanding of the pricing dynamics based on the number of rooms and its reviews.\n",
    "\n",
    "However, it's important to recognize that our model, like any analytical tool, has room for improvement. We have identified several avenues for enhancing the model's performance, such as addressing outliers, normalizing the data, and potentially incorporating additional explanatory variables that could capture more complexity in the data.\n",
    "\n",
    "As we conclude, we reflect on the potential of machine learning in transforming raw data into actionable insights. The value of our model lies not only in its current predictive power but also in its capacity to evolve and improve. By applying further data preprocessing techniques, experimenting with different model parameters, and exploring more sophisticated algorithms, we can continue to refine our predictions.\n",
    "\n",
    "This notebook serves as a foundation for such future work. It is a testament to the power of Spark and machine learning in making informed predictions that can guide decision-making in real-world scenarios."
   ]
  },
  {
   "cell_type": "markdown",
   "metadata": {
    "application/vnd.databricks.v1+cell": {
     "cellMetadata": {},
     "inputWidgets": {},
     "nuid": "62e89be2-9476-402f-a1ee-f4c5c2befbb7",
     "showTitle": false,
     "title": ""
    }
   },
   "source": [
    "\n"
   ]
  }
 ],
 "metadata": {
  "application/vnd.databricks.v1+notebook": {
   "dashboards": [
    {
     "elements": [],
     "globalVars": {},
     "guid": "",
     "layoutOption": {
      "grid": true,
      "stack": true
     },
     "nuid": "741385cb-20c7-47d8-b233-c2192f254cd2",
     "origId": 1601708652675863,
     "title": "Untitled",
     "version": "DashboardViewV1",
     "width": 1024
    }
   ],
   "language": "python",
   "notebookMetadata": {
    "mostRecentlyExecutedCommandWithImplicitDF": {
     "commandId": 2313008546463594,
     "dataframes": [
      "_sqldf"
     ]
    },
    "pythonIndentUnit": 4
   },
   "notebookName": "Linear_regression",
   "widgets": {}
  }
 },
 "nbformat": 4,
 "nbformat_minor": 0
}
